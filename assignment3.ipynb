{
 "cells": [
  {
   "cell_type": "code",
   "execution_count": 2,
   "id": "253a5179-0d5f-46bd-b863-68a2553f3a0d",
   "metadata": {},
   "outputs": [],
   "source": [
    "import numpy as np"
   ]
  },
  {
   "cell_type": "markdown",
   "id": "a9bb498c-0e75-4602-8670-7b43349d6fcf",
   "metadata": {},
   "source": [
    "###  1) Write a NumPy program to test whether none of the elementsof a given array is zero"
   ]
  },
  {
   "cell_type": "code",
   "execution_count": 51,
   "id": "08286939-9b4d-469c-bfa7-4dc44b63ba25",
   "metadata": {},
   "outputs": [
    {
     "name": "stdout",
     "output_type": "stream",
     "text": [
      "False\n"
     ]
    }
   ],
   "source": [
    "a=np.array([[1,2],[3,0]])\n",
    "flag=False\n",
    "for i in range(len(a)):\n",
    "    for j in range(len(a[i])):\n",
    "        if a[i][j]==0:\n",
    "            flag=False\n",
    "        else:\n",
    "            flag=True\n",
    "print(flag)"
   ]
  },
  {
   "cell_type": "markdown",
   "id": "f5dc4bf3-e42a-40c3-9d47-fcf86f37ed14",
   "metadata": {},
   "source": [
    "### 2) Write a NumPy program to test whether any of the elements of a given array is non-zero."
   ]
  },
  {
   "cell_type": "code",
   "execution_count": 59,
   "id": "2b621dec-f36f-4de0-b3e9-5ac013c73a79",
   "metadata": {},
   "outputs": [
    {
     "name": "stdout",
     "output_type": "stream",
     "text": [
      "True\n"
     ]
    }
   ],
   "source": [
    "b=np.array([[0,6,3],[0,0,8]])\n",
    "flag=False\n",
    "for i in range(len(b)):\n",
    "    for j in range(len(b[i])):\n",
    "        if b[i][j]!=0:\n",
    "            flag=True\n",
    "        else:\n",
    "            flag=False\n",
    "print(flag)\n",
    "   "
   ]
  },
  {
   "cell_type": "markdown",
   "id": "e1afbe93-70ed-4f6a-a5d1-54f61bd3a3ae",
   "metadata": {},
   "source": [
    "#### 3)Write a NumPy program to create an element-wise comparison (equal, equal within a tolerance) of two given"
   ]
  },
  {
   "cell_type": "code",
   "execution_count": 69,
   "id": "cf6cdcd0-1f98-4ce2-b34a-614e55d7aca5",
   "metadata": {},
   "outputs": [
    {
     "name": "stdout",
     "output_type": "stream",
     "text": [
      "[True, True, True, True, True, True]\n"
     ]
    }
   ],
   "source": [
    "a=np.array([1,3,4,6,8,9])\n",
    "b=np.array([1,3,4,6,8,9])\n",
    "lst=[]\n",
    "for i,j in zip(a,b):\n",
    "    if i==j:\n",
    "        lst.append(True)\n",
    "    else:\n",
    "        lst.append(False)\n",
    "print(lst)           \n",
    "            "
   ]
  },
  {
   "cell_type": "markdown",
   "id": "f18e6e48-9517-42e1-a297-5c78d6b42eb4",
   "metadata": {},
   "source": [
    "### 4)Write a NumPy program to create an array of 10 zeros,10 ones, 10 fives."
   ]
  },
  {
   "cell_type": "code",
   "execution_count": 64,
   "id": "4c1afc24-f5a1-4189-828b-2d4ff772205f",
   "metadata": {},
   "outputs": [
    {
     "name": "stdout",
     "output_type": "stream",
     "text": [
      "array of 10 zeros [0. 0. 0. 0. 0. 0. 0. 0. 0. 0.]\n",
      "array of 10 ones [1. 1. 1. 1. 1. 1. 1. 1. 1. 1.]\n",
      "array of 10 fives [5. 5. 5. 5. 5. 5. 5. 5. 5. 5.]\n"
     ]
    }
   ],
   "source": [
    "a=np.zeros(10)\n",
    "print(\"array of 10 zeros\",a)\n",
    "\n",
    "b=np.ones(10)\n",
    "print(\"array of 10 ones\",b)\n",
    "\n",
    "c=np.ones(10)*5\n",
    "print(\"array of 10 fives\",c)"
   ]
  },
  {
   "cell_type": "markdown",
   "id": "60bd37cb-daae-44df-9e9a-c0380fd03633",
   "metadata": {},
   "source": [
    "### 5) Write a NumPy program to create an array of the integers from 30 to70."
   ]
  },
  {
   "cell_type": "code",
   "execution_count": 66,
   "id": "a46c5c1d-aa86-458f-bcfb-e7df0cb88b07",
   "metadata": {},
   "outputs": [
    {
     "data": {
      "text/plain": [
       "array([30, 31, 32, 33, 34, 35, 36, 37, 38, 39, 40, 41, 42, 43, 44, 45, 46,\n",
       "       47, 48, 49, 50, 51, 52, 53, 54, 55, 56, 57, 58, 59, 60, 61, 62, 63,\n",
       "       64, 65, 66, 67, 68, 69, 70])"
      ]
     },
     "execution_count": 66,
     "metadata": {},
     "output_type": "execute_result"
    }
   ],
   "source": [
    "a=np.arange(30,71)\n",
    "a"
   ]
  },
  {
   "cell_type": "markdown",
   "id": "ab0588e7-5ab7-4b19-8c88-f0e3168ed6b5",
   "metadata": {},
   "source": [
    "### 6) Write a NumPy program to create a 3x3 identity matrix "
   ]
  },
  {
   "cell_type": "code",
   "execution_count": 68,
   "id": "57388d63-f733-4a68-9510-924a9d1d9fbf",
   "metadata": {},
   "outputs": [
    {
     "data": {
      "text/plain": [
       "array([[1., 0., 0.],\n",
       "       [0., 1., 0.],\n",
       "       [0., 0., 1.]])"
      ]
     },
     "execution_count": 68,
     "metadata": {},
     "output_type": "execute_result"
    }
   ],
   "source": [
    "a=np.eye(3)\n",
    "a"
   ]
  },
  {
   "cell_type": "markdown",
   "id": "8488e6b8-d28d-4dd6-b616-fd1c7e81726a",
   "metadata": {},
   "source": [
    "### 7) Write a NumPy program to generate a random number between 0 and 1 "
   ]
  },
  {
   "cell_type": "code",
   "execution_count": 70,
   "id": "93166160-8c8a-4a62-aa70-5e01c77c894f",
   "metadata": {},
   "outputs": [
    {
     "data": {
      "text/plain": [
       "0.7648441963524062"
      ]
     },
     "execution_count": 70,
     "metadata": {},
     "output_type": "execute_result"
    }
   ],
   "source": [
    "np.random.normal(0,1)"
   ]
  },
  {
   "cell_type": "markdown",
   "id": "6bf95aba-941d-4849-b595-9a0a02f4f528",
   "metadata": {},
   "source": [
    "##### 8) Write a NumPy program to generate an array of 15 random numbers from a standard normal distribution "
   ]
  },
  {
   "cell_type": "code",
   "execution_count": 74,
   "id": "29b1a865-aa56-494a-9220-4e2591ccba77",
   "metadata": {},
   "outputs": [
    {
     "data": {
      "text/plain": [
       "array([ 0.72869842,  1.00602026, -0.5779947 , -0.11507832,  0.26080399,\n",
       "       -0.05507085, -1.8321438 ,  0.09214924,  0.26505372, -0.37039704,\n",
       "       -0.08674423,  0.9547358 , -0.60796606, -1.3128006 ,  0.54140145])"
      ]
     },
     "execution_count": 74,
     "metadata": {},
     "output_type": "execute_result"
    }
   ],
   "source": [
    "np.random.normal(0,1,15)"
   ]
  },
  {
   "cell_type": "markdown",
   "id": "da74b52e-5e28-4815-b270-c9027a5a4217",
   "metadata": {},
   "source": [
    "##### 9) Write a NumPy program to create a vector with values ranging from 15 to 55 and print all values except the first and last"
   ]
  },
  {
   "cell_type": "code",
   "execution_count": 89,
   "id": "d383f014-04e4-428b-bfff-0ad8ca43f1ce",
   "metadata": {},
   "outputs": [
    {
     "data": {
      "text/plain": [
       "array([16, 17, 18, 19, 20, 21, 22, 23, 24, 25, 26, 27, 28, 29, 30, 31, 32,\n",
       "       33, 34, 35, 36, 37, 38, 39, 40, 41, 42, 43, 44, 45, 46, 47, 48, 49,\n",
       "       50, 51, 52, 53, 54])"
      ]
     },
     "execution_count": 89,
     "metadata": {},
     "output_type": "execute_result"
    }
   ],
   "source": [
    "np.arange(16,55)"
   ]
  },
  {
   "cell_type": "markdown",
   "id": "afaba004-b26c-42b2-a355-ba86220001c4",
   "metadata": {},
   "source": [
    "#### 10)Write a NumPy program to create a vector of length 5 filled with arbitrary integers from 0 to 10"
   ]
  },
  {
   "cell_type": "code",
   "execution_count": 90,
   "id": "99cc721e-0e5f-40f5-8080-06161412a865",
   "metadata": {},
   "outputs": [
    {
     "data": {
      "text/plain": [
       "array([1, 2, 8, 4, 8])"
      ]
     },
     "execution_count": 90,
     "metadata": {},
     "output_type": "execute_result"
    }
   ],
   "source": [
    "np.random.randint(0, 11, 5)"
   ]
  },
  {
   "cell_type": "markdown",
   "id": "a92af720-8fbc-4bb8-af5f-454171f8fc0d",
   "metadata": {},
   "source": [
    "##### 11) Write a NumPy program to create a 10x10 matrix, in which the elements on the borders will be equal to 1, and inside 0.\n"
   ]
  },
  {
   "cell_type": "code",
   "execution_count": 2,
   "id": "f9afbffe-e3ef-4875-96f2-b57f38aeafb2",
   "metadata": {},
   "outputs": [],
   "source": [
    "from numpy import matlib"
   ]
  },
  {
   "cell_type": "code",
   "execution_count": 104,
   "id": "5d93ffd7-f96d-45a1-82f6-5804005bc0e1",
   "metadata": {},
   "outputs": [
    {
     "data": {
      "text/plain": [
       "matrix([[1., 1., 1., 1., 1., 1., 1., 1., 1., 1.],\n",
       "        [1., 1., 1., 1., 1., 1., 1., 1., 1., 1.],\n",
       "        [1., 1., 1., 1., 1., 1., 1., 1., 1., 1.],\n",
       "        [1., 1., 1., 1., 1., 1., 1., 1., 1., 1.],\n",
       "        [1., 1., 1., 1., 1., 1., 1., 1., 1., 1.],\n",
       "        [1., 1., 1., 1., 1., 1., 1., 1., 1., 1.],\n",
       "        [1., 1., 1., 1., 1., 1., 1., 1., 1., 1.],\n",
       "        [1., 1., 1., 1., 1., 1., 1., 1., 1., 1.],\n",
       "        [1., 1., 1., 1., 1., 1., 1., 1., 1., 1.],\n",
       "        [1., 1., 1., 1., 1., 1., 1., 1., 1., 1.]])"
      ]
     },
     "execution_count": 104,
     "metadata": {},
     "output_type": "execute_result"
    }
   ],
   "source": [
    "a=matlib.ones((10,10))\n",
    "a"
   ]
  },
  {
   "cell_type": "code",
   "execution_count": 105,
   "id": "dcf4f555-117f-4fdb-9a0d-13168d231357",
   "metadata": {},
   "outputs": [
    {
     "name": "stdout",
     "output_type": "stream",
     "text": [
      "[[1. 1. 1. 1. 1. 1. 1. 1. 1. 1.]\n",
      " [1. 0. 0. 0. 0. 0. 0. 0. 0. 1.]\n",
      " [1. 0. 0. 0. 0. 0. 0. 0. 0. 1.]\n",
      " [1. 0. 0. 0. 0. 0. 0. 0. 0. 1.]\n",
      " [1. 0. 0. 0. 0. 0. 0. 0. 0. 1.]\n",
      " [1. 0. 0. 0. 0. 0. 0. 0. 0. 1.]\n",
      " [1. 0. 0. 0. 0. 0. 0. 0. 0. 1.]\n",
      " [1. 0. 0. 0. 0. 0. 0. 0. 0. 1.]\n",
      " [1. 0. 0. 0. 0. 0. 0. 0. 0. 1.]\n",
      " [1. 1. 1. 1. 1. 1. 1. 1. 1. 1.]]\n"
     ]
    }
   ],
   "source": [
    "a[1:9,1:9]=0\n",
    "print(a)"
   ]
  },
  {
   "cell_type": "markdown",
   "id": "f48e7811-655f-4ea7-b53e-ff28840f6b9e",
   "metadata": {},
   "source": [
    "#### 12) Write a NumPy program to create a 5x5 zero matrix with elements on the main diagonal equal to 1, 2, 3, 4,5"
   ]
  },
  {
   "cell_type": "code",
   "execution_count": 124,
   "id": "e74c896d-51d9-4d2a-b3cc-b0c0d71ac166",
   "metadata": {},
   "outputs": [
    {
     "data": {
      "text/plain": [
       "matrix([[0., 0., 0., 0., 0.],\n",
       "        [0., 0., 0., 0., 0.],\n",
       "        [0., 0., 0., 0., 0.],\n",
       "        [0., 0., 0., 0., 0.],\n",
       "        [0., 0., 0., 0., 0.]])"
      ]
     },
     "execution_count": 124,
     "metadata": {},
     "output_type": "execute_result"
    }
   ],
   "source": [
    "a=matlib.zeros((5,5))\n",
    "a"
   ]
  },
  {
   "cell_type": "code",
   "execution_count": 136,
   "id": "d6d168bd-4c7f-4edf-90e4-01fa617cfce6",
   "metadata": {},
   "outputs": [
    {
     "data": {
      "text/plain": [
       "array([[1, 0, 0, 0, 0],\n",
       "       [0, 2, 0, 0, 0],\n",
       "       [0, 0, 3, 0, 0],\n",
       "       [0, 0, 0, 4, 0],\n",
       "       [0, 0, 0, 0, 5]])"
      ]
     },
     "execution_count": 136,
     "metadata": {},
     "output_type": "execute_result"
    }
   ],
   "source": [
    "a=matlib.diag([1,2,3,4,5])\n",
    "a"
   ]
  },
  {
   "cell_type": "markdown",
   "id": "586b7852-b10b-456e-b5aa-eb9197ad8e42",
   "metadata": {},
   "source": [
    "##### 13) Write a NumPy program to create a 4x4 matrix in which 0 and 1 are staggered, with zeros on the main diagonal."
   ]
  },
  {
   "cell_type": "code",
   "execution_count": 18,
   "id": "c4b775e5-4138-4c9a-80fd-9d3bfa628b0d",
   "metadata": {},
   "outputs": [
    {
     "data": {
      "text/plain": [
       "array([[0, 1, 0, 1],\n",
       "       [1, 1, 1, 0],\n",
       "       [0, 1, 1, 1],\n",
       "       [1, 0, 0, 0]])"
      ]
     },
     "execution_count": 18,
     "metadata": {},
     "output_type": "execute_result"
    }
   ],
   "source": [
    "a=np.random.randint(0, 2, (4,4))\n",
    "a"
   ]
  },
  {
   "cell_type": "code",
   "execution_count": 19,
   "id": "11ef66f5-6205-4396-86b3-b0239f98bb8e",
   "metadata": {},
   "outputs": [
    {
     "data": {
      "text/plain": [
       "array([[0, 1, 0, 1],\n",
       "       [1, 0, 1, 0],\n",
       "       [0, 1, 0, 1],\n",
       "       [1, 0, 0, 0]])"
      ]
     },
     "execution_count": 19,
     "metadata": {},
     "output_type": "execute_result"
    }
   ],
   "source": [
    "for i in range(len(a)):\n",
    "    for j in range(len(a[i])):\n",
    "        if i==j:\n",
    "            a[i][j]=0\n",
    "print(a)"
   ]
  },
  {
   "cell_type": "markdown",
   "id": "07e2e6ee-67cc-427a-8746-613b1af54ae5",
   "metadata": {
    "tags": []
   },
   "source": [
    "##### 14)Write a NumPy program to save two given arrays into a single file in compressed format (.npz format) and load it.\n"
   ]
  },
  {
   "cell_type": "code",
   "execution_count": 10,
   "id": "56f242d5-1471-4840-a939-96d58582ddaa",
   "metadata": {
    "tags": []
   },
   "outputs": [
    {
     "name": "stdout",
     "output_type": "stream",
     "text": [
      "[0 1 2 3 4]\n",
      "[10 11 12 13 14 15]\n"
     ]
    }
   ],
   "source": [
    "a = np.array([1,2,3,4])\n",
    "b = np.array([5,6,7,8])\n",
    "np.savez('arrays.npz', a, b)\n",
    "with np.load('array.npz') as data:\n",
    "    a2 = data['a']\n",
    "    b2 = data['b']\n",
    "    print(a2)\n",
    "    print(b2)"
   ]
  },
  {
   "cell_type": "markdown",
   "id": "0b145508-a041-483d-9a6c-fbaabdf116d1",
   "metadata": {},
   "source": [
    "##### 15) Write a NumPy program to create a one dimensional array of forty pseudo-randomly generated values."
   ]
  },
  {
   "cell_type": "code",
   "execution_count": 20,
   "id": "547834da-e3af-43db-a33a-3940b709a578",
   "metadata": {},
   "outputs": [
    {
     "data": {
      "text/plain": [
       "array([ 4, 17, 11, 28, 29, 18, 15, 12, 27, 10, 17, 17,  5, 17, 19,  2, 21,\n",
       "       13,  3, 28, 25,  4, 10,  6, 11, 20, 20, 14, 14,  8, 19,  9, 10,  5,\n",
       "       26, 26,  6,  6, 24,  8])"
      ]
     },
     "execution_count": 20,
     "metadata": {},
     "output_type": "execute_result"
    }
   ],
   "source": [
    "np.random.randint(1,30,40)"
   ]
  },
  {
   "cell_type": "markdown",
   "id": "e0265f1c-511d-4fd9-af9a-42b4bc643a7f",
   "metadata": {},
   "source": [
    "##### 16) Write a NumPy program to extract all numbers from a given array which are less and greater than a specified number"
   ]
  },
  {
   "cell_type": "code",
   "execution_count": 170,
   "id": "c6daef72-ea80-4f9d-8dac-9ec56d487d91",
   "metadata": {},
   "outputs": [
    {
     "name": "stdout",
     "output_type": "stream",
     "text": [
      "[1, 2, 4, 7, 9, 6, 8]\n"
     ]
    }
   ],
   "source": [
    "a=np.array([[1,2,4],[40,7,32],[9,6,8]])\n",
    "lst1=[]\n",
    "for i in range(len(a)):\n",
    "    for j in range(len(a[i])):\n",
    "        if a[i][j]<10:\n",
    "            lst1.append(a[i][j])\n",
    "print(lst1)        "
   ]
  }
 ],
 "metadata": {
  "kernelspec": {
   "display_name": "Python 3 (ipykernel)",
   "language": "python",
   "name": "python3"
  },
  "language_info": {
   "codemirror_mode": {
    "name": "ipython",
    "version": 3
   },
   "file_extension": ".py",
   "mimetype": "text/x-python",
   "name": "python",
   "nbconvert_exporter": "python",
   "pygments_lexer": "ipython3",
   "version": "3.9.13"
  }
 },
 "nbformat": 4,
 "nbformat_minor": 5
}
